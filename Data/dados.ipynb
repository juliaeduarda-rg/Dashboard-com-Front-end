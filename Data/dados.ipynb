{
 "cells": [
  {
   "attachments": {},
   "cell_type": "markdown",
   "metadata": {},
   "source": [
    "<h3>Importando bibliotecas <h3>\n"
   ]
  },
  {
   "cell_type": "code",
   "execution_count": 1,
   "metadata": {},
   "outputs": [],
   "source": [
    "import pandas as pd\n",
    "import numpy as np\n",
    "import seaborn as sns\n",
    "import plotly as px\n",
    "import basedosdados as bd\n"
   ]
  },
  {
   "attachments": {},
   "cell_type": "markdown",
   "metadata": {},
   "source": [
    "<h3> Importando os dados da API"
   ]
  },
  {
   "cell_type": "code",
   "execution_count": 2,
   "metadata": {},
   "outputs": [
    {
     "name": "stderr",
     "output_type": "stream",
     "text": [
      "Downloading: 100%|██████████| 406657/406657 [01:54<00:00, 3542.98rows/s]\n"
     ]
    }
   ],
   "source": [
    "df_funcionarios = bd.read_sql('SELECT * FROM `basedosdados.br_cgu_pessoal_executivo_federal.terceirizados`', \n",
    "billing_project_id= 'dcc-sirius')"
   ]
  },
  {
   "attachments": {},
   "cell_type": "markdown",
   "metadata": {},
   "source": [
    "<h3> Entendendo os dados"
   ]
  },
  {
   "cell_type": "code",
   "execution_count": 62,
   "metadata": {},
   "outputs": [
    {
     "data": {
      "text/plain": [
       "ano                                      0\n",
       "mes                                      0\n",
       "id_terceirizado                          0\n",
       "sigla_orgao_superior_unidade_gestora     0\n",
       "codigo_unidade_gestora                   0\n",
       "unidade_gestora                          0\n",
       "sigla_unidade_gestora                    0\n",
       "contrato_empresa                         0\n",
       "cnpj_empresa                             0\n",
       "razao_social_empresa                     0\n",
       "cpf                                      0\n",
       "nome                                     0\n",
       "categoria_profissional                   0\n",
       "nivel_escolaridade                       0\n",
       "quantidade_horas_trabalhadas_semanais    0\n",
       "unidade_trabalho                         0\n",
       "valor_mensal                             0\n",
       "custo_mensal                             0\n",
       "sigla_orgao_trabalho                     0\n",
       "nome_orgao_trabalho                      0\n",
       "codigo_siafi_trabalho                    0\n",
       "codigo_siape_trabalho                    0\n",
       "dtype: int64"
      ]
     },
     "execution_count": 62,
     "metadata": {},
     "output_type": "execute_result"
    }
   ],
   "source": [
    "df_funcionarios.isnull().sum() #Verificando linhas sem valores, observamos que exitem valores faltantes"
   ]
  },
  {
   "cell_type": "code",
   "execution_count": 63,
   "metadata": {},
   "outputs": [
    {
     "data": {
      "text/plain": [
       "(400976, 22)"
      ]
     },
     "execution_count": 63,
     "metadata": {},
     "output_type": "execute_result"
    }
   ],
   "source": [
    "df_funcionarios.shape # Verificando quantidade de linhas e colunas\n",
    "\n",
    "# Caso o objetivo fosse uma análise completa, devido a quantidade de dados preenchidos em comparação a quantidade de dados faltantes, \n",
    "# nossa análise não seria impactada. Portanto, poderia excluir linhas com dados em falta."
   ]
  },
  {
   "cell_type": "code",
   "execution_count": 64,
   "metadata": {},
   "outputs": [],
   "source": [
    "df_funcionarios.dropna(inplace= True) #tirando os nulos"
   ]
  },
  {
   "cell_type": "code",
   "execution_count": 65,
   "metadata": {},
   "outputs": [
    {
     "data": {
      "text/plain": [
       "ano                                      object\n",
       "mes                                      object\n",
       "id_terceirizado                          object\n",
       "sigla_orgao_superior_unidade_gestora     object\n",
       "codigo_unidade_gestora                   object\n",
       "unidade_gestora                          object\n",
       "sigla_unidade_gestora                    object\n",
       "contrato_empresa                         object\n",
       "cnpj_empresa                             object\n",
       "razao_social_empresa                     object\n",
       "cpf                                      object\n",
       "nome                                     object\n",
       "categoria_profissional                   object\n",
       "nivel_escolaridade                       object\n",
       "quantidade_horas_trabalhadas_semanais    object\n",
       "unidade_trabalho                         object\n",
       "valor_mensal                             object\n",
       "custo_mensal                             object\n",
       "sigla_orgao_trabalho                     object\n",
       "nome_orgao_trabalho                      object\n",
       "codigo_siafi_trabalho                    object\n",
       "codigo_siape_trabalho                    object\n",
       "dtype: object"
      ]
     },
     "execution_count": 65,
     "metadata": {},
     "output_type": "execute_result"
    }
   ],
   "source": [
    "df_funcionarios.dtypes #Observando os tipos das colunas, já podemos observar que alguns valores estão com o tipo errado"
   ]
  },
  {
   "cell_type": "code",
   "execution_count": 66,
   "metadata": {},
   "outputs": [
    {
     "data": {
      "text/plain": [
       "0"
      ]
     },
     "execution_count": 66,
     "metadata": {},
     "output_type": "execute_result"
    }
   ],
   "source": [
    "df_funcionarios.duplicated().sum() #Verificando se existem linhas duplicadas"
   ]
  },
  {
   "cell_type": "code",
   "execution_count": 67,
   "metadata": {},
   "outputs": [
    {
     "data": {
      "application/vnd.plotly.v1+json": {
       "config": {
        "plotlyServerURL": "https://plot.ly"
       },
       "data": [],
       "layout": {
        "barmode": "relative",
        "legend": {
         "tracegroupgap": 0
        },
        "margin": {
         "t": 60
        },
        "template": {
         "data": {
          "bar": [
           {
            "error_x": {
             "color": "#2a3f5f"
            },
            "error_y": {
             "color": "#2a3f5f"
            },
            "marker": {
             "line": {
              "color": "#E5ECF6",
              "width": 0.5
             },
             "pattern": {
              "fillmode": "overlay",
              "size": 10,
              "solidity": 0.2
             }
            },
            "type": "bar"
           }
          ],
          "barpolar": [
           {
            "marker": {
             "line": {
              "color": "#E5ECF6",
              "width": 0.5
             },
             "pattern": {
              "fillmode": "overlay",
              "size": 10,
              "solidity": 0.2
             }
            },
            "type": "barpolar"
           }
          ],
          "carpet": [
           {
            "aaxis": {
             "endlinecolor": "#2a3f5f",
             "gridcolor": "white",
             "linecolor": "white",
             "minorgridcolor": "white",
             "startlinecolor": "#2a3f5f"
            },
            "baxis": {
             "endlinecolor": "#2a3f5f",
             "gridcolor": "white",
             "linecolor": "white",
             "minorgridcolor": "white",
             "startlinecolor": "#2a3f5f"
            },
            "type": "carpet"
           }
          ],
          "choropleth": [
           {
            "colorbar": {
             "outlinewidth": 0,
             "ticks": ""
            },
            "type": "choropleth"
           }
          ],
          "contour": [
           {
            "colorbar": {
             "outlinewidth": 0,
             "ticks": ""
            },
            "colorscale": [
             [
              0,
              "#0d0887"
             ],
             [
              0.1111111111111111,
              "#46039f"
             ],
             [
              0.2222222222222222,
              "#7201a8"
             ],
             [
              0.3333333333333333,
              "#9c179e"
             ],
             [
              0.4444444444444444,
              "#bd3786"
             ],
             [
              0.5555555555555556,
              "#d8576b"
             ],
             [
              0.6666666666666666,
              "#ed7953"
             ],
             [
              0.7777777777777778,
              "#fb9f3a"
             ],
             [
              0.8888888888888888,
              "#fdca26"
             ],
             [
              1,
              "#f0f921"
             ]
            ],
            "type": "contour"
           }
          ],
          "contourcarpet": [
           {
            "colorbar": {
             "outlinewidth": 0,
             "ticks": ""
            },
            "type": "contourcarpet"
           }
          ],
          "heatmap": [
           {
            "colorbar": {
             "outlinewidth": 0,
             "ticks": ""
            },
            "colorscale": [
             [
              0,
              "#0d0887"
             ],
             [
              0.1111111111111111,
              "#46039f"
             ],
             [
              0.2222222222222222,
              "#7201a8"
             ],
             [
              0.3333333333333333,
              "#9c179e"
             ],
             [
              0.4444444444444444,
              "#bd3786"
             ],
             [
              0.5555555555555556,
              "#d8576b"
             ],
             [
              0.6666666666666666,
              "#ed7953"
             ],
             [
              0.7777777777777778,
              "#fb9f3a"
             ],
             [
              0.8888888888888888,
              "#fdca26"
             ],
             [
              1,
              "#f0f921"
             ]
            ],
            "type": "heatmap"
           }
          ],
          "heatmapgl": [
           {
            "colorbar": {
             "outlinewidth": 0,
             "ticks": ""
            },
            "colorscale": [
             [
              0,
              "#0d0887"
             ],
             [
              0.1111111111111111,
              "#46039f"
             ],
             [
              0.2222222222222222,
              "#7201a8"
             ],
             [
              0.3333333333333333,
              "#9c179e"
             ],
             [
              0.4444444444444444,
              "#bd3786"
             ],
             [
              0.5555555555555556,
              "#d8576b"
             ],
             [
              0.6666666666666666,
              "#ed7953"
             ],
             [
              0.7777777777777778,
              "#fb9f3a"
             ],
             [
              0.8888888888888888,
              "#fdca26"
             ],
             [
              1,
              "#f0f921"
             ]
            ],
            "type": "heatmapgl"
           }
          ],
          "histogram": [
           {
            "marker": {
             "pattern": {
              "fillmode": "overlay",
              "size": 10,
              "solidity": 0.2
             }
            },
            "type": "histogram"
           }
          ],
          "histogram2d": [
           {
            "colorbar": {
             "outlinewidth": 0,
             "ticks": ""
            },
            "colorscale": [
             [
              0,
              "#0d0887"
             ],
             [
              0.1111111111111111,
              "#46039f"
             ],
             [
              0.2222222222222222,
              "#7201a8"
             ],
             [
              0.3333333333333333,
              "#9c179e"
             ],
             [
              0.4444444444444444,
              "#bd3786"
             ],
             [
              0.5555555555555556,
              "#d8576b"
             ],
             [
              0.6666666666666666,
              "#ed7953"
             ],
             [
              0.7777777777777778,
              "#fb9f3a"
             ],
             [
              0.8888888888888888,
              "#fdca26"
             ],
             [
              1,
              "#f0f921"
             ]
            ],
            "type": "histogram2d"
           }
          ],
          "histogram2dcontour": [
           {
            "colorbar": {
             "outlinewidth": 0,
             "ticks": ""
            },
            "colorscale": [
             [
              0,
              "#0d0887"
             ],
             [
              0.1111111111111111,
              "#46039f"
             ],
             [
              0.2222222222222222,
              "#7201a8"
             ],
             [
              0.3333333333333333,
              "#9c179e"
             ],
             [
              0.4444444444444444,
              "#bd3786"
             ],
             [
              0.5555555555555556,
              "#d8576b"
             ],
             [
              0.6666666666666666,
              "#ed7953"
             ],
             [
              0.7777777777777778,
              "#fb9f3a"
             ],
             [
              0.8888888888888888,
              "#fdca26"
             ],
             [
              1,
              "#f0f921"
             ]
            ],
            "type": "histogram2dcontour"
           }
          ],
          "mesh3d": [
           {
            "colorbar": {
             "outlinewidth": 0,
             "ticks": ""
            },
            "type": "mesh3d"
           }
          ],
          "parcoords": [
           {
            "line": {
             "colorbar": {
              "outlinewidth": 0,
              "ticks": ""
             }
            },
            "type": "parcoords"
           }
          ],
          "pie": [
           {
            "automargin": true,
            "type": "pie"
           }
          ],
          "scatter": [
           {
            "marker": {
             "colorbar": {
              "outlinewidth": 0,
              "ticks": ""
             }
            },
            "type": "scatter"
           }
          ],
          "scatter3d": [
           {
            "line": {
             "colorbar": {
              "outlinewidth": 0,
              "ticks": ""
             }
            },
            "marker": {
             "colorbar": {
              "outlinewidth": 0,
              "ticks": ""
             }
            },
            "type": "scatter3d"
           }
          ],
          "scattercarpet": [
           {
            "marker": {
             "colorbar": {
              "outlinewidth": 0,
              "ticks": ""
             }
            },
            "type": "scattercarpet"
           }
          ],
          "scattergeo": [
           {
            "marker": {
             "colorbar": {
              "outlinewidth": 0,
              "ticks": ""
             }
            },
            "type": "scattergeo"
           }
          ],
          "scattergl": [
           {
            "marker": {
             "colorbar": {
              "outlinewidth": 0,
              "ticks": ""
             }
            },
            "type": "scattergl"
           }
          ],
          "scattermapbox": [
           {
            "marker": {
             "colorbar": {
              "outlinewidth": 0,
              "ticks": ""
             }
            },
            "type": "scattermapbox"
           }
          ],
          "scatterpolar": [
           {
            "marker": {
             "colorbar": {
              "outlinewidth": 0,
              "ticks": ""
             }
            },
            "type": "scatterpolar"
           }
          ],
          "scatterpolargl": [
           {
            "marker": {
             "colorbar": {
              "outlinewidth": 0,
              "ticks": ""
             }
            },
            "type": "scatterpolargl"
           }
          ],
          "scatterternary": [
           {
            "marker": {
             "colorbar": {
              "outlinewidth": 0,
              "ticks": ""
             }
            },
            "type": "scatterternary"
           }
          ],
          "surface": [
           {
            "colorbar": {
             "outlinewidth": 0,
             "ticks": ""
            },
            "colorscale": [
             [
              0,
              "#0d0887"
             ],
             [
              0.1111111111111111,
              "#46039f"
             ],
             [
              0.2222222222222222,
              "#7201a8"
             ],
             [
              0.3333333333333333,
              "#9c179e"
             ],
             [
              0.4444444444444444,
              "#bd3786"
             ],
             [
              0.5555555555555556,
              "#d8576b"
             ],
             [
              0.6666666666666666,
              "#ed7953"
             ],
             [
              0.7777777777777778,
              "#fb9f3a"
             ],
             [
              0.8888888888888888,
              "#fdca26"
             ],
             [
              1,
              "#f0f921"
             ]
            ],
            "type": "surface"
           }
          ],
          "table": [
           {
            "cells": {
             "fill": {
              "color": "#EBF0F8"
             },
             "line": {
              "color": "white"
             }
            },
            "header": {
             "fill": {
              "color": "#C8D4E3"
             },
             "line": {
              "color": "white"
             }
            },
            "type": "table"
           }
          ]
         },
         "layout": {
          "annotationdefaults": {
           "arrowcolor": "#2a3f5f",
           "arrowhead": 0,
           "arrowwidth": 1
          },
          "autotypenumbers": "strict",
          "coloraxis": {
           "colorbar": {
            "outlinewidth": 0,
            "ticks": ""
           }
          },
          "colorscale": {
           "diverging": [
            [
             0,
             "#8e0152"
            ],
            [
             0.1,
             "#c51b7d"
            ],
            [
             0.2,
             "#de77ae"
            ],
            [
             0.3,
             "#f1b6da"
            ],
            [
             0.4,
             "#fde0ef"
            ],
            [
             0.5,
             "#f7f7f7"
            ],
            [
             0.6,
             "#e6f5d0"
            ],
            [
             0.7,
             "#b8e186"
            ],
            [
             0.8,
             "#7fbc41"
            ],
            [
             0.9,
             "#4d9221"
            ],
            [
             1,
             "#276419"
            ]
           ],
           "sequential": [
            [
             0,
             "#0d0887"
            ],
            [
             0.1111111111111111,
             "#46039f"
            ],
            [
             0.2222222222222222,
             "#7201a8"
            ],
            [
             0.3333333333333333,
             "#9c179e"
            ],
            [
             0.4444444444444444,
             "#bd3786"
            ],
            [
             0.5555555555555556,
             "#d8576b"
            ],
            [
             0.6666666666666666,
             "#ed7953"
            ],
            [
             0.7777777777777778,
             "#fb9f3a"
            ],
            [
             0.8888888888888888,
             "#fdca26"
            ],
            [
             1,
             "#f0f921"
            ]
           ],
           "sequentialminus": [
            [
             0,
             "#0d0887"
            ],
            [
             0.1111111111111111,
             "#46039f"
            ],
            [
             0.2222222222222222,
             "#7201a8"
            ],
            [
             0.3333333333333333,
             "#9c179e"
            ],
            [
             0.4444444444444444,
             "#bd3786"
            ],
            [
             0.5555555555555556,
             "#d8576b"
            ],
            [
             0.6666666666666666,
             "#ed7953"
            ],
            [
             0.7777777777777778,
             "#fb9f3a"
            ],
            [
             0.8888888888888888,
             "#fdca26"
            ],
            [
             1,
             "#f0f921"
            ]
           ]
          },
          "colorway": [
           "#636efa",
           "#EF553B",
           "#00cc96",
           "#ab63fa",
           "#FFA15A",
           "#19d3f3",
           "#FF6692",
           "#B6E880",
           "#FF97FF",
           "#FECB52"
          ],
          "font": {
           "color": "#2a3f5f"
          },
          "geo": {
           "bgcolor": "white",
           "lakecolor": "white",
           "landcolor": "#E5ECF6",
           "showlakes": true,
           "showland": true,
           "subunitcolor": "white"
          },
          "hoverlabel": {
           "align": "left"
          },
          "hovermode": "closest",
          "mapbox": {
           "style": "light"
          },
          "paper_bgcolor": "white",
          "plot_bgcolor": "#E5ECF6",
          "polar": {
           "angularaxis": {
            "gridcolor": "white",
            "linecolor": "white",
            "ticks": ""
           },
           "bgcolor": "#E5ECF6",
           "radialaxis": {
            "gridcolor": "white",
            "linecolor": "white",
            "ticks": ""
           }
          },
          "scene": {
           "xaxis": {
            "backgroundcolor": "#E5ECF6",
            "gridcolor": "white",
            "gridwidth": 2,
            "linecolor": "white",
            "showbackground": true,
            "ticks": "",
            "zerolinecolor": "white"
           },
           "yaxis": {
            "backgroundcolor": "#E5ECF6",
            "gridcolor": "white",
            "gridwidth": 2,
            "linecolor": "white",
            "showbackground": true,
            "ticks": "",
            "zerolinecolor": "white"
           },
           "zaxis": {
            "backgroundcolor": "#E5ECF6",
            "gridcolor": "white",
            "gridwidth": 2,
            "linecolor": "white",
            "showbackground": true,
            "ticks": "",
            "zerolinecolor": "white"
           }
          },
          "shapedefaults": {
           "line": {
            "color": "#2a3f5f"
           }
          },
          "ternary": {
           "aaxis": {
            "gridcolor": "white",
            "linecolor": "white",
            "ticks": ""
           },
           "baxis": {
            "gridcolor": "white",
            "linecolor": "white",
            "ticks": ""
           },
           "bgcolor": "#E5ECF6",
           "caxis": {
            "gridcolor": "white",
            "linecolor": "white",
            "ticks": ""
           }
          },
          "title": {
           "x": 0.05
          },
          "xaxis": {
           "automargin": true,
           "gridcolor": "white",
           "linecolor": "white",
           "ticks": "",
           "title": {
            "standoff": 15
           },
           "zerolinecolor": "white",
           "zerolinewidth": 2
          },
          "yaxis": {
           "automargin": true,
           "gridcolor": "white",
           "linecolor": "white",
           "ticks": "",
           "title": {
            "standoff": 15
           },
           "zerolinecolor": "white",
           "zerolinewidth": 2
          }
         }
        },
        "xaxis": {
         "anchor": "y",
         "domain": [
          0,
          1
         ],
         "title": {
          "text": "nivel_escolaridade"
         }
        },
        "yaxis": {
         "anchor": "x",
         "domain": [
          0,
          1
         ],
         "title": {
          "text": "count"
         }
        }
       }
      }
     },
     "metadata": {},
     "output_type": "display_data"
    }
   ],
   "source": [
    "df = df_funcionarios.loc[df_funcionarios['categoria_profissional'].isnull()== True] # Selecionando linhas com categoria profissional nula.\n",
    "\n",
    "fig = px.hist_frame(df,\n",
    "x ='nivel_escolaridade'\n",
    ")\n",
    "\n",
    "fig #Gráfico simples pra identificar se dados faltantes de escolaridade estariam ligados a falta de educação do cadastro"
   ]
  },
  {
   "cell_type": "code",
   "execution_count": 68,
   "metadata": {},
   "outputs": [
    {
     "data": {
      "text/html": [
       "<div>\n",
       "<style scoped>\n",
       "    .dataframe tbody tr th:only-of-type {\n",
       "        vertical-align: middle;\n",
       "    }\n",
       "\n",
       "    .dataframe tbody tr th {\n",
       "        vertical-align: top;\n",
       "    }\n",
       "\n",
       "    .dataframe thead th {\n",
       "        text-align: right;\n",
       "    }\n",
       "</style>\n",
       "<table border=\"1\" class=\"dataframe\">\n",
       "  <thead>\n",
       "    <tr style=\"text-align: right;\">\n",
       "      <th></th>\n",
       "      <th>ano</th>\n",
       "      <th>mes</th>\n",
       "      <th>id_terceirizado</th>\n",
       "      <th>unidade_gestora</th>\n",
       "      <th>cpf</th>\n",
       "      <th>nome</th>\n",
       "      <th>categoria_profissional</th>\n",
       "      <th>nivel_escolaridade</th>\n",
       "      <th>quantidade_horas_trabalhadas_semanais</th>\n",
       "      <th>unidade_trabalho</th>\n",
       "      <th>valor_mensal</th>\n",
       "      <th>custo_mensal</th>\n",
       "      <th>nome_orgao_trabalho</th>\n",
       "      <th>sigla_orgao_trabalho</th>\n",
       "    </tr>\n",
       "  </thead>\n",
       "  <tbody>\n",
       "    <tr>\n",
       "      <th>0</th>\n",
       "      <td>2021</td>\n",
       "      <td>9</td>\n",
       "      <td>8145166</td>\n",
       "      <td>GERENCIA REGIONAL DE ADMINISTRACAO DO ME NO ES...</td>\n",
       "      <td>***.345.735-**</td>\n",
       "      <td>DHEILLA DE JESUS</td>\n",
       "      <td>513425 - COPEIRO</td>\n",
       "      <td>ENSINO MEDIO COMPLETO</td>\n",
       "      <td>44</td>\n",
       "      <td>SAMF/ES</td>\n",
       "      <td>1185.6800537109375</td>\n",
       "      <td>2887.75</td>\n",
       "      <td>MINIST. DO PLANEJAMENTO, DESENVOLV. E GESTAO</td>\n",
       "      <td>MPDG</td>\n",
       "    </tr>\n",
       "    <tr>\n",
       "      <th>1</th>\n",
       "      <td>2021</td>\n",
       "      <td>9</td>\n",
       "      <td>8145167</td>\n",
       "      <td>GERENCIA REGIONAL DE ADMINISTRACAO DO ME NO ES...</td>\n",
       "      <td>***.720.987-**</td>\n",
       "      <td>KARLA SIRLENE GOMES RIBEIRO MUNIZ</td>\n",
       "      <td>422105 - RECEPCIONISTA, EM GERAL</td>\n",
       "      <td>SUPERIOR COMPLETO</td>\n",
       "      <td>44</td>\n",
       "      <td>SPU/ES</td>\n",
       "      <td>1976.3399658203125</td>\n",
       "      <td>4268.7998046875</td>\n",
       "      <td>MINIST. DO PLANEJAMENTO, DESENVOLV. E GESTAO</td>\n",
       "      <td>MPDG</td>\n",
       "    </tr>\n",
       "    <tr>\n",
       "      <th>2</th>\n",
       "      <td>2021</td>\n",
       "      <td>9</td>\n",
       "      <td>8145168</td>\n",
       "      <td>GERENCIA REGIONAL DE ADMINISTRACAO DO ME NO ES...</td>\n",
       "      <td>***.036.406-**</td>\n",
       "      <td>LETICIA ANANIA DA CUNHA</td>\n",
       "      <td>422105 - RECEPCIONISTA, EM GERAL</td>\n",
       "      <td>SUPERIOR INCOMPLETO</td>\n",
       "      <td>44</td>\n",
       "      <td>SPU/ES</td>\n",
       "      <td>1976.3399658203125</td>\n",
       "      <td>4268.7998046875</td>\n",
       "      <td>MINIST. DO PLANEJAMENTO, DESENVOLV. E GESTAO</td>\n",
       "      <td>MPDG</td>\n",
       "    </tr>\n",
       "    <tr>\n",
       "      <th>3</th>\n",
       "      <td>2021</td>\n",
       "      <td>9</td>\n",
       "      <td>8145169</td>\n",
       "      <td>GERENCIA REGIONAL DE ADMINISTRACAO DO ME NO ES...</td>\n",
       "      <td>***.937.987-**</td>\n",
       "      <td>HELENA BOSSI PESSINI VIEIRA</td>\n",
       "      <td>422105 - RECEPCIONISTA, EM GERAL</td>\n",
       "      <td>SUPERIOR COMPLETO</td>\n",
       "      <td>44</td>\n",
       "      <td>SPU/ES</td>\n",
       "      <td>1976.3399658203125</td>\n",
       "      <td>4268.7998046875</td>\n",
       "      <td>MINIST. DO PLANEJAMENTO, DESENVOLV. E GESTAO</td>\n",
       "      <td>MPDG</td>\n",
       "    </tr>\n",
       "    <tr>\n",
       "      <th>4</th>\n",
       "      <td>2021</td>\n",
       "      <td>9</td>\n",
       "      <td>8145170</td>\n",
       "      <td>GERENCIA REGIONAL DE ADMINISTRACAO DO ME NO ES...</td>\n",
       "      <td>***.250.047-**</td>\n",
       "      <td>THAYANE FERREIRA DE OLIVEIRA</td>\n",
       "      <td>422105 - RECEPCIONISTA, EM GERAL</td>\n",
       "      <td>SUPERIOR INCOMPLETO</td>\n",
       "      <td>44</td>\n",
       "      <td>SPU/ES</td>\n",
       "      <td>1976.3399658203125</td>\n",
       "      <td>4268.7998046875</td>\n",
       "      <td>MINIST. DO PLANEJAMENTO, DESENVOLV. E GESTAO</td>\n",
       "      <td>MPDG</td>\n",
       "    </tr>\n",
       "    <tr>\n",
       "      <th>...</th>\n",
       "      <td>...</td>\n",
       "      <td>...</td>\n",
       "      <td>...</td>\n",
       "      <td>...</td>\n",
       "      <td>...</td>\n",
       "      <td>...</td>\n",
       "      <td>...</td>\n",
       "      <td>...</td>\n",
       "      <td>...</td>\n",
       "      <td>...</td>\n",
       "      <td>...</td>\n",
       "      <td>...</td>\n",
       "      <td>...</td>\n",
       "      <td>...</td>\n",
       "    </tr>\n",
       "    <tr>\n",
       "      <th>406652</th>\n",
       "      <td>2019</td>\n",
       "      <td>1</td>\n",
       "      <td>7092167</td>\n",
       "      <td>COORDENACAO GERAL DE LICITACAO E CONTRATOS</td>\n",
       "      <td>***.938.295-**</td>\n",
       "      <td>VANESSA OLIVEIRA SANTOS</td>\n",
       "      <td>422305 - OPERADOR DE TELEMARKETING ATIVO</td>\n",
       "      <td>ENSINO MEDIO COMPLETO</td>\n",
       "      <td>36</td>\n",
       "      <td>APS TELEATENDIMENTO SALVADOR</td>\n",
       "      <td>954</td>\n",
       "      <td>2222,21</td>\n",
       "      <td>INSTITUTO NACIONAL DO SEGURO SOCIAL</td>\n",
       "      <td>INSS</td>\n",
       "    </tr>\n",
       "    <tr>\n",
       "      <th>406653</th>\n",
       "      <td>2019</td>\n",
       "      <td>1</td>\n",
       "      <td>7092168</td>\n",
       "      <td>COORDENACAO GERAL DE LICITACAO E CONTRATOS</td>\n",
       "      <td>***.981.505-**</td>\n",
       "      <td>RAFAELA DOS SANTOS VITORIO</td>\n",
       "      <td>422305 - OPERADOR DE TELEMARKETING ATIVO</td>\n",
       "      <td>ENSINO MEDIO COMPLETO</td>\n",
       "      <td>36</td>\n",
       "      <td>APS TELEATENDIMENTO SALVADOR</td>\n",
       "      <td>954</td>\n",
       "      <td>2222,21</td>\n",
       "      <td>INSTITUTO NACIONAL DO SEGURO SOCIAL</td>\n",
       "      <td>INSS</td>\n",
       "    </tr>\n",
       "    <tr>\n",
       "      <th>406654</th>\n",
       "      <td>2019</td>\n",
       "      <td>1</td>\n",
       "      <td>7092169</td>\n",
       "      <td>COORDENACAO GERAL DE LICITACAO E CONTRATOS</td>\n",
       "      <td>***.999.535-**</td>\n",
       "      <td>DAISY PEIXOTO DE JESUS</td>\n",
       "      <td>422305 - OPERADOR DE TELEMARKETING ATIVO</td>\n",
       "      <td>SUPERIOR INCOMPLETO</td>\n",
       "      <td>36</td>\n",
       "      <td>APS TELEATENDIMENTO SALVADOR</td>\n",
       "      <td>983,85</td>\n",
       "      <td>2291,74</td>\n",
       "      <td>INSTITUTO NACIONAL DO SEGURO SOCIAL</td>\n",
       "      <td>INSS</td>\n",
       "    </tr>\n",
       "    <tr>\n",
       "      <th>406655</th>\n",
       "      <td>2019</td>\n",
       "      <td>1</td>\n",
       "      <td>7092170</td>\n",
       "      <td>COORDENACAO GERAL DE LICITACAO E CONTRATOS</td>\n",
       "      <td>***.008.445-**</td>\n",
       "      <td>AGATA SERPA DA SILVA</td>\n",
       "      <td>422305 - OPERADOR DE TELEMARKETING ATIVO</td>\n",
       "      <td>ENSINO MEDIO COMPLETO</td>\n",
       "      <td>36</td>\n",
       "      <td>APS TELEATENDIMENTO SALVADOR</td>\n",
       "      <td>954</td>\n",
       "      <td>2222,21</td>\n",
       "      <td>INSTITUTO NACIONAL DO SEGURO SOCIAL</td>\n",
       "      <td>INSS</td>\n",
       "    </tr>\n",
       "    <tr>\n",
       "      <th>406656</th>\n",
       "      <td>2019</td>\n",
       "      <td>1</td>\n",
       "      <td>7092171</td>\n",
       "      <td>COORDENACAO GERAL DE LICITACAO E CONTRATOS</td>\n",
       "      <td>***.035.745-**</td>\n",
       "      <td>MAISA SANTOS DE ARAUJO</td>\n",
       "      <td>420135 - SUPERVISOR DE TELEMARKETING E ATENDIM...</td>\n",
       "      <td>SUPERIOR COMPLETO</td>\n",
       "      <td>44</td>\n",
       "      <td>APS TELEATENDIMENTO SALVADOR</td>\n",
       "      <td>1375,98</td>\n",
       "      <td>3205,16</td>\n",
       "      <td>INSTITUTO NACIONAL DO SEGURO SOCIAL</td>\n",
       "      <td>INSS</td>\n",
       "    </tr>\n",
       "  </tbody>\n",
       "</table>\n",
       "<p>400976 rows × 14 columns</p>\n",
       "</div>"
      ],
      "text/plain": [
       "         ano mes id_terceirizado  \\\n",
       "0       2021   9         8145166   \n",
       "1       2021   9         8145167   \n",
       "2       2021   9         8145168   \n",
       "3       2021   9         8145169   \n",
       "4       2021   9         8145170   \n",
       "...      ...  ..             ...   \n",
       "406652  2019   1         7092167   \n",
       "406653  2019   1         7092168   \n",
       "406654  2019   1         7092169   \n",
       "406655  2019   1         7092170   \n",
       "406656  2019   1         7092171   \n",
       "\n",
       "                                          unidade_gestora             cpf  \\\n",
       "0       GERENCIA REGIONAL DE ADMINISTRACAO DO ME NO ES...  ***.345.735-**   \n",
       "1       GERENCIA REGIONAL DE ADMINISTRACAO DO ME NO ES...  ***.720.987-**   \n",
       "2       GERENCIA REGIONAL DE ADMINISTRACAO DO ME NO ES...  ***.036.406-**   \n",
       "3       GERENCIA REGIONAL DE ADMINISTRACAO DO ME NO ES...  ***.937.987-**   \n",
       "4       GERENCIA REGIONAL DE ADMINISTRACAO DO ME NO ES...  ***.250.047-**   \n",
       "...                                                   ...             ...   \n",
       "406652         COORDENACAO GERAL DE LICITACAO E CONTRATOS  ***.938.295-**   \n",
       "406653         COORDENACAO GERAL DE LICITACAO E CONTRATOS  ***.981.505-**   \n",
       "406654         COORDENACAO GERAL DE LICITACAO E CONTRATOS  ***.999.535-**   \n",
       "406655         COORDENACAO GERAL DE LICITACAO E CONTRATOS  ***.008.445-**   \n",
       "406656         COORDENACAO GERAL DE LICITACAO E CONTRATOS  ***.035.745-**   \n",
       "\n",
       "                                     nome  \\\n",
       "0                        DHEILLA DE JESUS   \n",
       "1       KARLA SIRLENE GOMES RIBEIRO MUNIZ   \n",
       "2                 LETICIA ANANIA DA CUNHA   \n",
       "3             HELENA BOSSI PESSINI VIEIRA   \n",
       "4            THAYANE FERREIRA DE OLIVEIRA   \n",
       "...                                   ...   \n",
       "406652            VANESSA OLIVEIRA SANTOS   \n",
       "406653         RAFAELA DOS SANTOS VITORIO   \n",
       "406654             DAISY PEIXOTO DE JESUS   \n",
       "406655               AGATA SERPA DA SILVA   \n",
       "406656             MAISA SANTOS DE ARAUJO   \n",
       "\n",
       "                                   categoria_profissional  \\\n",
       "0                                        513425 - COPEIRO   \n",
       "1                        422105 - RECEPCIONISTA, EM GERAL   \n",
       "2                        422105 - RECEPCIONISTA, EM GERAL   \n",
       "3                        422105 - RECEPCIONISTA, EM GERAL   \n",
       "4                        422105 - RECEPCIONISTA, EM GERAL   \n",
       "...                                                   ...   \n",
       "406652           422305 - OPERADOR DE TELEMARKETING ATIVO   \n",
       "406653           422305 - OPERADOR DE TELEMARKETING ATIVO   \n",
       "406654           422305 - OPERADOR DE TELEMARKETING ATIVO   \n",
       "406655           422305 - OPERADOR DE TELEMARKETING ATIVO   \n",
       "406656  420135 - SUPERVISOR DE TELEMARKETING E ATENDIM...   \n",
       "\n",
       "           nivel_escolaridade quantidade_horas_trabalhadas_semanais  \\\n",
       "0       ENSINO MEDIO COMPLETO                                  44     \n",
       "1           SUPERIOR COMPLETO                                  44     \n",
       "2         SUPERIOR INCOMPLETO                                  44     \n",
       "3           SUPERIOR COMPLETO                                  44     \n",
       "4         SUPERIOR INCOMPLETO                                  44     \n",
       "...                       ...                                   ...   \n",
       "406652  ENSINO MEDIO COMPLETO                                  36     \n",
       "406653  ENSINO MEDIO COMPLETO                                  36     \n",
       "406654    SUPERIOR INCOMPLETO                                  36     \n",
       "406655  ENSINO MEDIO COMPLETO                                  36     \n",
       "406656      SUPERIOR COMPLETO                                  44     \n",
       "\n",
       "                    unidade_trabalho        valor_mensal     custo_mensal  \\\n",
       "0                            SAMF/ES  1185.6800537109375          2887.75   \n",
       "1                             SPU/ES  1976.3399658203125  4268.7998046875   \n",
       "2                             SPU/ES  1976.3399658203125  4268.7998046875   \n",
       "3                             SPU/ES  1976.3399658203125  4268.7998046875   \n",
       "4                             SPU/ES  1976.3399658203125  4268.7998046875   \n",
       "...                              ...                 ...              ...   \n",
       "406652  APS TELEATENDIMENTO SALVADOR                 954          2222,21   \n",
       "406653  APS TELEATENDIMENTO SALVADOR                 954          2222,21   \n",
       "406654  APS TELEATENDIMENTO SALVADOR              983,85          2291,74   \n",
       "406655  APS TELEATENDIMENTO SALVADOR                 954          2222,21   \n",
       "406656  APS TELEATENDIMENTO SALVADOR             1375,98          3205,16   \n",
       "\n",
       "                                 nome_orgao_trabalho sigla_orgao_trabalho  \n",
       "0       MINIST. DO PLANEJAMENTO, DESENVOLV. E GESTAO                 MPDG  \n",
       "1       MINIST. DO PLANEJAMENTO, DESENVOLV. E GESTAO                 MPDG  \n",
       "2       MINIST. DO PLANEJAMENTO, DESENVOLV. E GESTAO                 MPDG  \n",
       "3       MINIST. DO PLANEJAMENTO, DESENVOLV. E GESTAO                 MPDG  \n",
       "4       MINIST. DO PLANEJAMENTO, DESENVOLV. E GESTAO                 MPDG  \n",
       "...                                              ...                  ...  \n",
       "406652           INSTITUTO NACIONAL DO SEGURO SOCIAL                 INSS  \n",
       "406653           INSTITUTO NACIONAL DO SEGURO SOCIAL                 INSS  \n",
       "406654           INSTITUTO NACIONAL DO SEGURO SOCIAL                 INSS  \n",
       "406655           INSTITUTO NACIONAL DO SEGURO SOCIAL                 INSS  \n",
       "406656           INSTITUTO NACIONAL DO SEGURO SOCIAL                 INSS  \n",
       "\n",
       "[400976 rows x 14 columns]"
      ]
     },
     "execution_count": 68,
     "metadata": {},
     "output_type": "execute_result"
    }
   ],
   "source": [
    "df_principal = df_funcionarios[['ano', 'mes', 'id_terceirizado', 'unidade_gestora', 'cpf', 'nome', 'categoria_profissional', \n",
    "'nivel_escolaridade', 'quantidade_horas_trabalhadas_semanais', 'unidade_trabalho', 'valor_mensal', 'custo_mensal', \n",
    "'nome_orgao_trabalho', 'sigla_orgao_trabalho']]\n",
    "\n",
    "#Selecionando colunas relevantes\n",
    "\n",
    "df_principal"
   ]
  },
  {
   "cell_type": "code",
   "execution_count": 88,
   "metadata": {},
   "outputs": [
    {
     "data": {
      "text/plain": [
       "ano                                        int32\n",
       "mes                                        int32\n",
       "id_terceirizado                            int32\n",
       "unidade_gestora                           object\n",
       "cpf                                       object\n",
       "nome                                      object\n",
       "categoria_profissional                    object\n",
       "nivel_escolaridade                        object\n",
       "quantidade_horas_trabalhadas_semanais     object\n",
       "unidade_trabalho                          object\n",
       "valor_mensal                             float64\n",
       "custo_mensal                             float64\n",
       "nome_orgao_trabalho                       object\n",
       "sigla_orgao_trabalho                      object\n",
       "dtype: object"
      ]
     },
     "execution_count": 88,
     "metadata": {},
     "output_type": "execute_result"
    }
   ],
   "source": [
    "df_principal.dtypes"
   ]
  },
  {
   "cell_type": "code",
   "execution_count": 87,
   "metadata": {},
   "outputs": [],
   "source": [
    "#Trocando de str para int\n",
    "df_principal[['ano','mes','id_terceirizado']]= df_principal[['ano','mes','id_terceirizado']].astype(int)\n",
    "\n",
    "#Alterando a , pelo .\n",
    "df_principal['valor_mensal'] = df_principal['valor_mensal'].str.replace(',', '.')\n",
    "df_principal['custo_mensal'] = df_principal['custo_mensal'].str.replace(',', '.')\n",
    "\n",
    "#Trocando o str pelo float para dinheiro\n",
    "df_principal[['valor_mensal', 'custo_mensal']]= df_principal[['valor_mensal', 'custo_mensal']].astype(float)"
   ]
  },
  {
   "cell_type": "code",
   "execution_count": null,
   "metadata": {},
   "outputs": [],
   "source": []
  },
  {
   "cell_type": "code",
   "execution_count": null,
   "metadata": {},
   "outputs": [],
   "source": []
  }
 ],
 "metadata": {
  "kernelspec": {
   "display_name": "Python 3.9.12 ('base')",
   "language": "python",
   "name": "python3"
  },
  "language_info": {
   "codemirror_mode": {
    "name": "ipython",
    "version": 3
   },
   "file_extension": ".py",
   "mimetype": "text/x-python",
   "name": "python",
   "nbconvert_exporter": "python",
   "pygments_lexer": "ipython3",
   "version": "3.9.12 (main, Apr  4 2022, 05:22:27) [MSC v.1916 64 bit (AMD64)]"
  },
  "orig_nbformat": 4,
  "vscode": {
   "interpreter": {
    "hash": "cb57b3ccfe62c6746bf3247651268e5f45d4314d13d2f08503817b1c05971834"
   }
  }
 },
 "nbformat": 4,
 "nbformat_minor": 2
}
